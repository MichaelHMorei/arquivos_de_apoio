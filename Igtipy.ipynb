{
  "nbformat": 4,
  "nbformat_minor": 0,
  "metadata": {
    "colab": {
      "name": "Igtipy.ipynb",
      "provenance": [],
      "authorship_tag": "ABX9TyPwNJ8HcSDxX3CiNh7MFS5X",
      "include_colab_link": true
    },
    "kernelspec": {
      "name": "python3",
      "display_name": "Python 3"
    },
    "language_info": {
      "name": "python"
    }
  },
  "cells": [
    {
      "cell_type": "markdown",
      "metadata": {
        "id": "view-in-github",
        "colab_type": "text"
      },
      "source": [
        "<a href=\"https://colab.research.google.com/github/MichaelHMorei/arquivos_de_apoio/blob/main/Igtipy.ipynb\" target=\"_parent\"><img src=\"https://colab.research.google.com/assets/colab-badge.svg\" alt=\"Open In Colab\"/></a>"
      ]
    },
    {
      "cell_type": "code",
      "source": [
        "!apt-get install openjdk-8-jdk-headless -qq > /dev/null\n",
        "!wget -q https://apache.osuosl.org/spark/spark-3.2.1/spark-3.2.1-bin-hadoop2.7.tgz\n",
        "!tar xf spark-3.2.1-bin-hadoop2.7.tgz"
      ],
      "metadata": {
        "id": "ln9YCTtEzlF7"
      },
      "execution_count": 1,
      "outputs": []
    },
    {
      "cell_type": "code",
      "source": [
        "!pip install -q findspark\n",
        "import os\n",
        "os.environ[\"JAVA_HOME\"] = \"/usr/lib/jvm/java-8-openjdk-amd64\"\n",
        "os.environ[\"SPARK_HOME\"] = \"/content/spark-3.2.1-bin-hadoop2.7\""
      ],
      "metadata": {
        "id": "dOciKebpzq-9"
      },
      "execution_count": 2,
      "outputs": []
    },
    {
      "cell_type": "code",
      "source": [
        "os.environ[\"SPARK_HOME\"]"
      ],
      "metadata": {
        "colab": {
          "base_uri": "https://localhost:8080/",
          "height": 36
        },
        "id": "GvvJzB0jztOs",
        "outputId": "11bb6757-5847-4cc1-9f59-a2833f8c77d8"
      },
      "execution_count": 3,
      "outputs": [
        {
          "output_type": "execute_result",
          "data": {
            "text/plain": [
              "'/content/spark-3.2.1-bin-hadoop2.7'"
            ],
            "application/vnd.google.colaboratory.intrinsic+json": {
              "type": "string"
            }
          },
          "metadata": {},
          "execution_count": 3
        }
      ]
    },
    {
      "cell_type": "code",
      "source": [
        "import findspark\n",
        "findspark.init()\n",
        "from pyspark.sql import SparkSession\n",
        "spark = SparkSession.builder.master(\"local[*]\").getOrCreate()"
      ],
      "metadata": {
        "id": "nkRS-PzZzu2A"
      },
      "execution_count": 4,
      "outputs": []
    },
    {
      "cell_type": "code",
      "source": [
        "pip install spark-nlp==2.4.2"
      ],
      "metadata": {
        "colab": {
          "base_uri": "https://localhost:8080/"
        },
        "id": "XekXPppPzxSU",
        "outputId": "d9e0c178-55a9-4ead-8d42-14495752fe8c"
      },
      "execution_count": 5,
      "outputs": [
        {
          "output_type": "stream",
          "name": "stdout",
          "text": [
            "Looking in indexes: https://pypi.org/simple, https://us-python.pkg.dev/colab-wheels/public/simple/\n",
            "Collecting spark-nlp==2.4.2\n",
            "  Downloading spark_nlp-2.4.2-py2.py3-none-any.whl (108 kB)\n",
            "\u001b[K     |████████████████████████████████| 108 kB 5.0 MB/s \n",
            "\u001b[?25hInstalling collected packages: spark-nlp\n",
            "Successfully installed spark-nlp-2.4.2\n"
          ]
        }
      ]
    },
    {
      "cell_type": "code",
      "source": [
        "import sparknlp\n",
        "\n",
        "spark = sparknlp.start()\n",
        "\n",
        "print(\"Spark NLP version: \", sparknlp.version())\n",
        "print(\"Apache Spark version: \", spark.version)"
      ],
      "metadata": {
        "colab": {
          "base_uri": "https://localhost:8080/"
        },
        "id": "Jr64G1kMzy55",
        "outputId": "b2181dbd-6f53-4d3a-d0ea-a35d9780dcc5"
      },
      "execution_count": 6,
      "outputs": [
        {
          "output_type": "stream",
          "name": "stdout",
          "text": [
            "Spark NLP version:  2.4.2\n",
            "Apache Spark version:  3.2.1\n"
          ]
        }
      ]
    },
    {
      "cell_type": "code",
      "execution_count": 7,
      "metadata": {
        "id": "flLXT8i_r67l"
      },
      "outputs": [],
      "source": [
        "import pandas as pd\n",
        "import numpy as np\n",
        "import os\n",
        "import zipfile\n",
        "import requests\n",
        "from io import BytesIO\n",
        "#Importando bibliotecas\n",
        "from pyspark.sql import SparkSession\n",
        "from pyspark.sql.functions import *\n",
        "import pyspark\n",
        "from pyspark.sql.types import *\n",
        "from datetime import *\n",
        "from pyspark import SparkConf, SparkContext"
      ]
    },
    {
      "cell_type": "code",
      "source": [
        "#Site contendo os dados\n",
        "url = \"https://download.inep.gov.br/microdados/microdados_enem_2020.zip\""
      ],
      "metadata": {
        "id": "D3txhKM4ksEr"
      },
      "execution_count": 8,
      "outputs": []
    },
    {
      "cell_type": "code",
      "source": [
        "#Criando pasta para armazenar os dados\n",
        "os.makedirs('./enadade2020',exist_ok = True)"
      ],
      "metadata": {
        "id": "S_qGxmwElJDT"
      },
      "execution_count": 9,
      "outputs": []
    },
    {
      "cell_type": "code",
      "source": [
        "#Fazendo o download do conteudo\n",
        "file =  BytesIO(\n",
        "     requests.get(url).content)\n",
        " \n",
        "# Extraindo o conteudo do arquivo zip na pasta criada.\n",
        "zip = zipfile.ZipFile(file)\n",
        "zip.extractall(\"./enadade2020\")"
      ],
      "metadata": {
        "id": "vMkDmtmjlJel"
      },
      "execution_count": 10,
      "outputs": []
    },
    {
      "cell_type": "code",
      "source": [
        "df_M = spark.read.option(\"encoding\", \"cp1252\").csv(\"./enadade2020/DADOS/MICRODADOS_ENEM_2020.csv\",inferSchema = 'True', sep =\";\", header ='True') "
      ],
      "metadata": {
        "id": "VjCf3gAzz6GM"
      },
      "execution_count": 12,
      "outputs": []
    },
    {
      "cell_type": "code",
      "source": [
        "df_M.show(10)"
      ],
      "metadata": {
        "colab": {
          "base_uri": "https://localhost:8080/"
        },
        "id": "VSKB27TG2AWS",
        "outputId": "1a43103a-5fa8-4b92-dd02-294771d58bc8"
      },
      "execution_count": 13,
      "outputs": [
        {
          "output_type": "stream",
          "name": "stdout",
          "text": [
            "+------------+------+---------------+-------+---------------+-----------+----------------+---------------+---------------+---------+---------+------------+----------------+-------------------+---------+---------+----------------------+------------------+---------------+------------------+-------------------+-----------+-----------+--------------+--------------+--------------+--------------+-----------+-----------+-----------+-----------+----------+----------+----------+----------+--------------------+--------------------+--------------------+--------------------+---------+--------------------+--------------------+--------------------+--------------------+-----------------+-------------+-------------+-------------+-------------+-------------+---------------+----+----+----+----+----+----+----+----+----+----+----+----+----+----+----+----+----+----+----+----+----+----+----+----+----+\n",
            "|NU_INSCRICAO|NU_ANO|TP_FAIXA_ETARIA|TP_SEXO|TP_ESTADO_CIVIL|TP_COR_RACA|TP_NACIONALIDADE|TP_ST_CONCLUSAO|TP_ANO_CONCLUIU|TP_ESCOLA|TP_ENSINO|IN_TREINEIRO|CO_MUNICIPIO_ESC|   NO_MUNICIPIO_ESC|CO_UF_ESC|SG_UF_ESC|TP_DEPENDENCIA_ADM_ESC|TP_LOCALIZACAO_ESC|TP_SIT_FUNC_ESC|CO_MUNICIPIO_PROVA| NO_MUNICIPIO_PROVA|CO_UF_PROVA|SG_UF_PROVA|TP_PRESENCA_CN|TP_PRESENCA_CH|TP_PRESENCA_LC|TP_PRESENCA_MT|CO_PROVA_CN|CO_PROVA_CH|CO_PROVA_LC|CO_PROVA_MT|NU_NOTA_CN|NU_NOTA_CH|NU_NOTA_LC|NU_NOTA_MT|     TX_RESPOSTAS_CN|     TX_RESPOSTAS_CH|     TX_RESPOSTAS_LC|     TX_RESPOSTAS_MT|TP_LINGUA|      TX_GABARITO_CN|      TX_GABARITO_CH|      TX_GABARITO_LC|      TX_GABARITO_MT|TP_STATUS_REDACAO|NU_NOTA_COMP1|NU_NOTA_COMP2|NU_NOTA_COMP3|NU_NOTA_COMP4|NU_NOTA_COMP5|NU_NOTA_REDACAO|Q001|Q002|Q003|Q004|Q005|Q006|Q007|Q008|Q009|Q010|Q011|Q012|Q013|Q014|Q015|Q016|Q017|Q018|Q019|Q020|Q021|Q022|Q023|Q024|Q025|\n",
            "+------------+------+---------------+-------+---------------+-----------+----------------+---------------+---------------+---------+---------+------------+----------------+-------------------+---------+---------+----------------------+------------------+---------------+------------------+-------------------+-----------+-----------+--------------+--------------+--------------+--------------+-----------+-----------+-----------+-----------+----------+----------+----------+----------+--------------------+--------------------+--------------------+--------------------+---------+--------------------+--------------------+--------------------+--------------------+-----------------+-------------+-------------+-------------+-------------+-------------+---------------+----+----+----+----+----+----+----+----+----+----+----+----+----+----+----+----+----+----+----+----+----+----+----+----+----+\n",
            "|200006271946|  2020|             11|      F|              1|          2|               1|              1|             11|        1|     null|           0|            null|               null|     null|     null|                  null|              null|           null|           1501402|              Belém|         15|         PA|             0|             0|             0|             0|       null|       null|       null|       null|      null|      null|      null|      null|                null|                null|                null|                null|        1|                null|                null|                null|                null|             null|         null|         null|         null|         null|         null|           null|null|null|null|null|null|null|null|null|null|null|null|null|null|null|null|null|null|null|null|null|null|null|null|null|null|\n",
            "|200001195856|  2020|             11|      M|              2|          3|               1|              1|             11|        1|     null|           0|            null|               null|     null|     null|                  null|              null|           null|           2408102|              Natal|         24|         RN|             1|             1|             1|             1|        702|        689|        693|        698|     604.1|     661.7|     595.3|     711.3|BCBDBDCCCDBDDBADE...|BCAECABCDCEBDBBBD...|99999CADDEDADBAAB...|EBEBDEDAECBADCADD...|        1|ABBACBCCCDDDDBAEE...|BCEECDBCCDEBDBBBB...|99999CBDDEDBDBACE...|BBEADECAECBBXCEBA...|                1|          120|          120|          120|          120|          100|            580|null|null|null|null|null|null|null|null|null|null|null|null|null|null|null|null|null|null|null|null|null|null|null|null|null|\n",
            "|200001943954|  2020|              4|      F|              2|          3|               2|              2|              0|        2|        1|           0|         2927408|           Salvador|       29|       BA|                     2|                 1|              1|           2927408|           Salvador|         29|         BA|             0|             0|             0|             0|       null|       null|       null|       null|      null|      null|      null|      null|                null|                null|                null|                null|        0|                null|                null|                null|                null|             null|         null|         null|         null|         null|         null|           null|   B|   C|   A|   D|   3|   B|   A|   B|   A|   A|   A|   B|   A|   B|   A|   B|   A|   A|   B|   A|   A|   A|   A|   A|   A|\n",
            "|200001908998|  2020|              2|      M|              1|          3|               1|              2|              0|        2|        1|           0|         3547304|Santana de Parnaíba|       35|       SP|                     3|                 1|              1|           3547304|Santana de Parnaíba|         35|         SP|             1|             1|             1|             1|        700|        688|        692|        696|     620.8|     675.0|     624.2|     759.4|EBEDCCCDCBDBAECAE...|DABCCACCBCCDCADBD...|DCEAB99999AADAECC...|CBDBDCCDDEECBAABB...|        0|BDECCACBEBDEAEDAE...|DABCCAECBABECADBD...|DCEAD99999AADACCC...|EBDBXCCDAEECBAABA...|                1|          140|          200|          140|          120|          160|            760|null|null|null|null|null|null|null|null|null|null|null|null|null|null|null|null|null|null|null|null|null|null|null|null|null|\n",
            "|200001634757|  2020|              4|      F|              1|          3|               2|              1|              1|        1|     null|           0|            null|               null|     null|     null|                  null|              null|           null|           3121605|         Diamantina|         31|         MG|             0|             0|             0|             0|       null|       null|       null|       null|      null|      null|      null|      null|                null|                null|                null|                null|        1|                null|                null|                null|                null|             null|         null|         null|         null|         null|         null|           null|   B|   G|   B|   B|   3|   B|   A|   B|   D|   A|   A|   B|   A|   B|   A|   A|   A|   A|   B|   A|   B|   B|   A|   A|   B|\n",
            "|200003132410|  2020|              3|      F|              1|          3|               1|              1|              1|        1|     null|           0|            null|               null|     null|     null|                  null|              null|           null|           4305207|        Cerro Largo|         43|         RS|             1|             1|             1|             1|        598|        567|        577|        588|     498.1|     604.7|     505.4|     526.7|CABBEEACAEBEBCCDA...|ACEBBDDCADDAACEEA...|99999CBECEBEDBEEC...|BADCAAAEEDBEDBACE...|        1|CEDBDDDCACCBDAEBA...|DABCBDDDAEDBECECB...|AAEDCACEEECEAACBA...|AEBCCXCCCACCDABCC...|                1|          140|          120|          140|          140|          160|            700|   C|   B|   C|   B|   5|   C|   A|   B|   E|   A|   A|   B|   A|   A|   A|   B|   A|   A|   B|   B|   A|   D|   A|   B|   B|\n",
            "|200001379770|  2020|              9|      M|              1|          3|               1|              1|              6|        1|     null|           0|            null|               null|     null|     null|                  null|              null|           null|           2611606|             Recife|         26|         PE|             0|             0|             0|             0|       null|       null|       null|       null|      null|      null|      null|      null|                null|                null|                null|                null|        0|                null|                null|                null|                null|             null|         null|         null|         null|         null|         null|           null|null|null|null|null|null|null|null|null|null|null|null|null|null|null|null|null|null|null|null|null|null|null|null|null|null|\n",
            "|200001334237|  2020|              4|      M|              1|          1|               1|              1|              1|        1|     null|           0|            null|               null|     null|     null|                  null|              null|           null|           3550308|          São Paulo|         35|         SP|             1|             1|             1|             1|        699|        687|        691|        695|     604.6|     604.8|     562.1|     753.2|CECACBBCADACADDEE...|EAADABBEABCADDBAA...|CADDE99999AEEADBA...|BABADDBDAEBAEBBBE...|        0|DEAAECBBCDCBAEBEE...|EAAADBBEDBDACDBCC...|CADDE99999DEBBBBB...|BABBDABAEEBACBACD...|                1|          140|          120|          120|          120|          100|            600|null|null|null|null|null|null|null|null|null|null|null|null|null|null|null|null|null|null|null|null|null|null|null|null|null|\n",
            "|200006762554|  2020|              5|      F|              2|          3|               1|              1|              3|        1|     null|           0|            null|               null|     null|     null|                  null|              null|           null|           2507507|        João Pessoa|         25|         PB|             1|             1|             1|             1|        598|        567|        577|        588|     439.7|     383.5|     486.2|     448.5|DABCDCAEDEDCBEDCD...|ECCAEAEACDDABCBDA...|99999DDCBBABECCAC...|EEDCCEACEBAAAADCD...|        1|CEDBDDDCACCBDAEBA...|DABCBDDDAEDBECECB...|AAEDCACEEECEAACBA...|AEBCCXCCCACCDABCC...|                1|          120|          120|          120|          140|          100|            600|   B|   C|   C|   B|   2|   B|   A|   B|   C|   A|   A|   B|   A|   B|   A|   A|   A|   A|   B|   A|   A|   C|   A|   A|   A|\n",
            "|200005146210|  2020|              2|      M|              1|          2|               1|              2|              0|        2|        1|           0|            null|               null|     null|     null|                  null|              null|           null|           2304400|          Fortaleza|         23|         CE|             0|             0|             0|             0|       null|       null|       null|       null|      null|      null|      null|      null|                null|                null|                null|                null|        0|                null|                null|                null|                null|             null|         null|         null|         null|         null|         null|           null|   A|   A|   B|   A|   4|   B|   A|   B|   B|   A|   A|   B|   A|   A|   A|   A|   A|   A|   B|   A|   A|   A|   A|   A|   B|\n",
            "+------------+------+---------------+-------+---------------+-----------+----------------+---------------+---------------+---------+---------+------------+----------------+-------------------+---------+---------+----------------------+------------------+---------------+------------------+-------------------+-----------+-----------+--------------+--------------+--------------+--------------+-----------+-----------+-----------+-----------+----------+----------+----------+----------+--------------------+--------------------+--------------------+--------------------+---------+--------------------+--------------------+--------------------+--------------------+-----------------+-------------+-------------+-------------+-------------+-------------+---------------+----+----+----+----+----+----+----+----+----+----+----+----+----+----+----+----+----+----+----+----+----+----+----+----+----+\n",
            "only showing top 10 rows\n",
            "\n"
          ]
        }
      ]
    },
    {
      "cell_type": "code",
      "source": [
        "df_M.createOrReplaceTempView('df_enada')"
      ],
      "metadata": {
        "id": "Jnw2CBDq_PWB"
      },
      "execution_count": 14,
      "outputs": []
    },
    {
      "cell_type": "code",
      "source": [
        "retur = spark.sql(\"\"\"\n",
        "  select df_enada.SG_UF_PROVA, df_enada.NU_NOTA_MT , df_enada.NU_NOTA_LC , df_enada.NU_NOTA_CH , df_enada.TP_SEXO , df_enada.NO_MUNICIPIO_ESC , df_enada.Q016 , df_enada.Q002, df_enada.Q005 , df_enada.Q001, df_enada.Q006, df_enada.TP_LINGUA , df_enada.TP_FAIXA_ETARIA , df_enada.TP_ESCOLA from df_enada\n",
        "    where df_enada.SG_UF_PROVA = 'MG'\n",
        "    AND df_enada.SG_UF_ESC = 'MG'\n",
        "\"\"\")\n"
      ],
      "metadata": {
        "id": "6tc70U6-2Nht"
      },
      "execution_count": 53,
      "outputs": []
    },
    {
      "cell_type": "code",
      "source": [
        "retur.select('SG_UF_PROVA','NU_NOTA_MT').filter(col('NU_NOTA_MT') > 0).groupBy(\"SG_UF_PROVA\").agg(mean(\"NU_NOTA_MT\")).show()"
      ],
      "metadata": {
        "colab": {
          "base_uri": "https://localhost:8080/"
        },
        "id": "t7J_wwvN2D-h",
        "outputId": "7daff61b-785e-47ed-8e0c-9201a44217e2"
      },
      "execution_count": null,
      "outputs": [
        {
          "output_type": "stream",
          "name": "stdout",
          "text": [
            "+-----------+-----------------+\n",
            "|SG_UF_PROVA|  avg(NU_NOTA_MT)|\n",
            "+-----------+-----------------+\n",
            "|         MG|579.9392153496156|\n",
            "+-----------+-----------------+\n",
            "\n"
          ]
        }
      ]
    },
    {
      "cell_type": "code",
      "source": [
        "retur.select('SG_UF_PROVA','df_enada.NU_NOTA_CH').filter(col('NU_NOTA_LC') > 0).groupBy(\"NU_NOTA_CH\").agg(mean(\"NU_NOTA_LC\")).show()"
      ],
      "metadata": {
        "colab": {
          "base_uri": "https://localhost:8080/"
        },
        "id": "jK9xa3ZoHPgR",
        "outputId": "0b528b22-24b9-4e94-ca3c-bd974e4ccf75"
      },
      "execution_count": null,
      "outputs": [
        {
          "output_type": "stream",
          "name": "stdout",
          "text": [
            "+-----------+-----------------+\n",
            "|SG_UF_PROVA|  avg(NU_NOTA_LC)|\n",
            "+-----------+-----------------+\n",
            "|         MG|553.4278863933847|\n",
            "+-----------+-----------------+\n",
            "\n"
          ]
        }
      ]
    },
    {
      "cell_type": "code",
      "source": [
        "retur.select('SG_UF_PROVA','NU_NOTA_CH','TP_SEXO').filter(col('NU_NOTA_CH') > 0).filter(col('TP_SEXO') == 'F').groupBy(\"SG_UF_PROVA\").agg(mean(\"NU_NOTA_CH\")).show()"
      ],
      "metadata": {
        "colab": {
          "base_uri": "https://localhost:8080/"
        },
        "id": "Hp-Etf_-MmHc",
        "outputId": "2bf31ff0-8111-4ccb-b569-cd161cbeeef7"
      },
      "execution_count": null,
      "outputs": [
        {
          "output_type": "stream",
          "name": "stdout",
          "text": [
            "+-----------+-----------------+\n",
            "|SG_UF_PROVA|  avg(NU_NOTA_CH)|\n",
            "+-----------+-----------------+\n",
            "|         MG|541.9433991568674|\n",
            "+-----------+-----------------+\n",
            "\n"
          ]
        }
      ]
    },
    {
      "cell_type": "code",
      "source": [
        "retur.select('SG_UF_PROVA','NU_NOTA_CH','TP_SEXO').filter(col('NU_NOTA_CH') > 0).filter(col('TP_SEXO') == 'M').groupBy(\"SG_UF_PROVA\").agg(mean(\"NU_NOTA_CH\")).show()"
      ],
      "metadata": {
        "colab": {
          "base_uri": "https://localhost:8080/"
        },
        "id": "Xkmst3sRNvDe",
        "outputId": "d05a79c2-4c4b-4c3d-b414-76e6f26f7c89"
      },
      "execution_count": null,
      "outputs": [
        {
          "output_type": "stream",
          "name": "stdout",
          "text": [
            "+-----------+-----------------+\n",
            "|SG_UF_PROVA|  avg(NU_NOTA_CH)|\n",
            "+-----------+-----------------+\n",
            "|         MG|560.3305497531334|\n",
            "+-----------+-----------------+\n",
            "\n"
          ]
        }
      ]
    },
    {
      "cell_type": "code",
      "source": [
        "retur.select('SG_UF_PROVA','NU_NOTA_MT','TP_SEXO', 'NO_MUNICIPIO_ESC').filter(col('NU_NOTA_MT') > 0).filter(col('TP_SEXO') == 'F').filter(col('NO_MUNICIPIO_ESC') == 'Montes Claros').groupBy(\"SG_UF_PROVA\").agg(mean(\"NU_NOTA_MT\")).show()"
      ],
      "metadata": {
        "colab": {
          "base_uri": "https://localhost:8080/"
        },
        "id": "dyvPS6_IOSzm",
        "outputId": "c6a6deb0-8e9c-4215-fc80-816c57f62680"
      },
      "execution_count": null,
      "outputs": [
        {
          "output_type": "stream",
          "name": "stdout",
          "text": [
            "+-----------+-----------------+\n",
            "|SG_UF_PROVA|  avg(NU_NOTA_MT)|\n",
            "+-----------+-----------------+\n",
            "|         MG|563.3175837320574|\n",
            "+-----------+-----------------+\n",
            "\n"
          ]
        }
      ]
    },
    {
      "cell_type": "code",
      "source": [
        "retur.select('SG_UF_PROVA','NU_NOTA_MT','Q021', 'NO_MUNICIPIO_ESC').filter(col('NU_NOTA_MT') > 0).filter(col('Q021') == 'B').filter(col('NO_MUNICIPIO_ESC') == 'Sabará').groupBy(\"SG_UF_PROVA\").agg(mean(\"NU_NOTA_MT\")).show()"
      ],
      "metadata": {
        "colab": {
          "base_uri": "https://localhost:8080/"
        },
        "id": "sj_mYdIhO0nX",
        "outputId": "e3d00eb3-ea3e-49e5-9598-528c229392bd"
      },
      "execution_count": null,
      "outputs": [
        {
          "output_type": "stream",
          "name": "stdout",
          "text": [
            "+-----------+-----------------+\n",
            "|SG_UF_PROVA|  avg(NU_NOTA_MT)|\n",
            "+-----------+-----------------+\n",
            "|         MG|580.1029850746269|\n",
            "+-----------+-----------------+\n",
            "\n"
          ]
        }
      ]
    },
    {
      "cell_type": "code",
      "source": [
        "retur.select('SG_UF_PROVA','NU_NOTA_CH','Q016').filter(col('NU_NOTA_CH') > 0).filter(col('Q016') == 'C').groupBy(\"SG_UF_PROVA\").agg(mean(\"NU_NOTA_CH\")).show()"
      ],
      "metadata": {
        "id": "dgX4iQOC8KYy",
        "outputId": "73ad5bfb-4034-4e55-8bce-74d1eca369d9",
        "colab": {
          "base_uri": "https://localhost:8080/"
        }
      },
      "execution_count": 18,
      "outputs": [
        {
          "output_type": "stream",
          "name": "stdout",
          "text": [
            "+-----------+-----------------+\n",
            "|SG_UF_PROVA|  avg(NU_NOTA_CH)|\n",
            "+-----------+-----------------+\n",
            "|         MG|601.0198979591837|\n",
            "+-----------+-----------------+\n",
            "\n"
          ]
        }
      ]
    },
    {
      "cell_type": "code",
      "source": [
        "retur.select('SG_UF_PROVA','NU_NOTA_MT','Q002').filter(col('NU_NOTA_MT') > 0).filter(col('Q002') == 'G').groupBy(\"SG_UF_PROVA\").agg(mean(\"NU_NOTA_MT\")).show()"
      ],
      "metadata": {
        "id": "PRVFksjNCZ6b",
        "outputId": "457b4996-902b-42f5-a39f-565b3d5486e8",
        "colab": {
          "base_uri": "https://localhost:8080/"
        }
      },
      "execution_count": 20,
      "outputs": [
        {
          "output_type": "stream",
          "name": "stdout",
          "text": [
            "+-----------+-----------------+\n",
            "|SG_UF_PROVA|  avg(NU_NOTA_MT)|\n",
            "+-----------+-----------------+\n",
            "|         MG|642.4147184604419|\n",
            "+-----------+-----------------+\n",
            "\n"
          ]
        }
      ]
    },
    {
      "cell_type": "code",
      "source": [
        "retur.select('SG_UF_PROVA','NU_NOTA_MT', 'NO_MUNICIPIO_ESC').filter(col('NU_NOTA_MT') > 0).filter((col('NO_MUNICIPIO_ESC') == 'Belo Horizonte') | (col('NO_MUNICIPIO_ESC') == 'Conselheiro Lafaiete')).groupBy(\"SG_UF_PROVA\").agg(mean(\"NU_NOTA_MT\")).show()"
      ],
      "metadata": {
        "id": "0j-ms-HaC_nB",
        "outputId": "3ddfc99c-0bda-408d-a280-878ea860b065",
        "colab": {
          "base_uri": "https://localhost:8080/"
        }
      },
      "execution_count": 25,
      "outputs": [
        {
          "output_type": "stream",
          "name": "stdout",
          "text": [
            "+-----------+-----------------+\n",
            "|SG_UF_PROVA|  avg(NU_NOTA_MT)|\n",
            "+-----------+-----------------+\n",
            "|         MG|621.0512265016049|\n",
            "+-----------+-----------------+\n",
            "\n"
          ]
        }
      ]
    },
    {
      "cell_type": "code",
      "source": [
        "retur.select('SG_UF_PROVA','NU_NOTA_CH','Q005').filter(col('NU_NOTA_CH') > 0).filter(col('Q005') == 1).groupBy(\"SG_UF_PROVA\").agg(mean(\"NU_NOTA_CH\")).show()"
      ],
      "metadata": {
        "id": "776Kj-Z6Ek0p",
        "outputId": "1835dfcf-da64-44a9-cbba-9ab6c35ca54e",
        "colab": {
          "base_uri": "https://localhost:8080/"
        }
      },
      "execution_count": 30,
      "outputs": [
        {
          "output_type": "stream",
          "name": "stdout",
          "text": [
            "+-----------+-----------------+\n",
            "|SG_UF_PROVA|  avg(NU_NOTA_CH)|\n",
            "+-----------+-----------------+\n",
            "|         MG|538.9960784313726|\n",
            "+-----------+-----------------+\n",
            "\n"
          ]
        }
      ]
    },
    {
      "cell_type": "code",
      "source": [
        "retur.select('SG_UF_PROVA','NU_NOTA_CH','Q001', 'Q006').filter(col('NU_NOTA_CH') > 0).filter((col('Q001') == 'G') & (col('Q006') == 'L')).groupBy(\"SG_UF_PROVA\").agg(mean(\"NU_NOTA_CH\")).show()"
      ],
      "metadata": {
        "id": "6iW_0KmsF02c",
        "outputId": "ec659e21-bf43-4053-9c44-e0e345a4783f",
        "colab": {
          "base_uri": "https://localhost:8080/"
        }
      },
      "execution_count": 36,
      "outputs": [
        {
          "output_type": "stream",
          "name": "stdout",
          "text": [
            "+-----------+-----------------+\n",
            "|SG_UF_PROVA|  avg(NU_NOTA_CH)|\n",
            "+-----------+-----------------+\n",
            "|         MG|627.1642857142857|\n",
            "+-----------+-----------------+\n",
            "\n"
          ]
        }
      ]
    },
    {
      "cell_type": "code",
      "source": [
        "retur.select('SG_UF_PROVA','NU_NOTA_MT','TP_SEXO','TP_LINGUA').filter(col('NU_NOTA_MT') > 0).filter((col('TP_SEXO') == 'F') & (col('TP_LINGUA') == 1) & (col('NO_MUNICIPIO_ESC') == 'Lavras')).groupBy(\"SG_UF_PROVA\").agg(mean(\"NU_NOTA_MT\")).show()"
      ],
      "metadata": {
        "id": "CGrvk7MnIA0s",
        "outputId": "47ae593a-822d-4421-ab03-1044cb24e099",
        "colab": {
          "base_uri": "https://localhost:8080/"
        }
      },
      "execution_count": 47,
      "outputs": [
        {
          "output_type": "stream",
          "name": "stdout",
          "text": [
            "+-----------+-----------------+\n",
            "|SG_UF_PROVA|  avg(NU_NOTA_MT)|\n",
            "+-----------+-----------------+\n",
            "|         MG|513.3833333333334|\n",
            "+-----------+-----------------+\n",
            "\n"
          ]
        }
      ]
    },
    {
      "cell_type": "code",
      "source": [
        "retur.select('SG_UF_PROVA','NU_NOTA_MT','TP_SEXO','NO_MUNICIPIO_ESC').filter(col('NU_NOTA_MT') > 0).filter((col('TP_SEXO') == 'M') & (col('NO_MUNICIPIO_ESC') == 'Ouro Preto')).groupBy(\"SG_UF_PROVA\").agg(mean(\"NU_NOTA_MT\")).show()"
      ],
      "metadata": {
        "id": "ceMnmxT3J53Z",
        "outputId": "9e5a4f08-d816-45b4-bd83-20fdaaf11d8d",
        "colab": {
          "base_uri": "https://localhost:8080/"
        }
      },
      "execution_count": 49,
      "outputs": [
        {
          "output_type": "stream",
          "name": "stdout",
          "text": [
            "+-----------+-----------------+\n",
            "|SG_UF_PROVA|  avg(NU_NOTA_MT)|\n",
            "+-----------+-----------------+\n",
            "|         MG|615.5823529411764|\n",
            "+-----------+-----------------+\n",
            "\n"
          ]
        }
      ]
    },
    {
      "cell_type": "code",
      "source": [
        "retur.select('SG_UF_PROVA','NU_NOTA_CH','TP_FAIXA_ETARIA').filter(col('NU_NOTA_CH') > 0).filter(col('TP_FAIXA_ETARIA') == 11).groupBy(\"SG_UF_PROVA\").agg(mean(\"NU_NOTA_CH\")).show()"
      ],
      "metadata": {
        "id": "iH5M4nx6KeuQ",
        "outputId": "3d2972f9-3c0f-4107-947b-c3eda4b93f4a",
        "colab": {
          "base_uri": "https://localhost:8080/"
        }
      },
      "execution_count": 52,
      "outputs": [
        {
          "output_type": "stream",
          "name": "stdout",
          "text": [
            "+-----------+----------------+\n",
            "|SG_UF_PROVA| avg(NU_NOTA_CH)|\n",
            "+-----------+----------------+\n",
            "|         MG|474.428947368421|\n",
            "+-----------+----------------+\n",
            "\n"
          ]
        }
      ]
    },
    {
      "cell_type": "markdown",
      "source": [
        ""
      ],
      "metadata": {
        "id": "yjmbQHIsMGSw"
      }
    },
    {
      "cell_type": "code",
      "source": [
        "retur.select('SG_UF_PROVA','NU_NOTA_MT','TP_SEXO','TP_ESCOLA').filter(col('NU_NOTA_MT') > 0).filter((col('TP_SEXO') == 'F') & (col('TP_ESCOLA') == 3) & (col('NO_MUNICIPIO_ESC') == 'Nova Lima') | (col('NO_MUNICIPIO_ESC') == 'Belo Horizonte') | (col('NO_MUNICIPIO_ESC') == 'Sabará') | (col('NO_MUNICIPIO_ESC') == 'Betim')).groupBy(\"SG_UF_PROVA\").agg(mean(\"NU_NOTA_MT\")).show()"
      ],
      "metadata": {
        "id": "T8UhNv6xLunX",
        "outputId": "9a742cb9-8e08-4dac-e02a-bdc19c62a3ee",
        "colab": {
          "base_uri": "https://localhost:8080/"
        }
      },
      "execution_count": 56,
      "outputs": [
        {
          "output_type": "stream",
          "name": "stdout",
          "text": [
            "+-----------+-----------------+\n",
            "|SG_UF_PROVA|  avg(NU_NOTA_MT)|\n",
            "+-----------+-----------------+\n",
            "|         MG|619.1268339562199|\n",
            "+-----------+-----------------+\n",
            "\n"
          ]
        }
      ]
    },
    {
      "cell_type": "code",
      "source": [
        "TP_ESCOLA"
      ],
      "metadata": {
        "id": "maso2Le_LkAo"
      },
      "execution_count": null,
      "outputs": []
    },
    {
      "cell_type": "code",
      "source": [
        "retur.filter(col('Q005') ==1).show()"
      ],
      "metadata": {
        "colab": {
          "base_uri": "https://localhost:8080/"
        },
        "id": "U6e7XLx0IBXx",
        "outputId": "b3836ce1-78f7-4fd4-8eea-629858b920b2"
      },
      "execution_count": 29,
      "outputs": [
        {
          "output_type": "stream",
          "name": "stdout",
          "text": [
            "+-----------+----------+----------+----------+-------+----------------+----+----+----+\n",
            "|SG_UF_PROVA|NU_NOTA_MT|NU_NOTA_LC|NU_NOTA_CH|TP_SEXO|NO_MUNICIPIO_ESC|Q016|Q002|Q005|\n",
            "+-----------+----------+----------+----------+-------+----------------+----+----+----+\n",
            "|         MG|     365.6|     502.6|     410.6|      F|         Nanuque|   A|   H|   1|\n",
            "|         MG|     689.1|     583.8|     604.2|      F|  Belo Horizonte|   B|   F|   1|\n",
            "|         MG|      null|      null|      null|      M|          Muriaé|   B|   B|   1|\n",
            "|         MG|     477.1|     350.5|     527.6|      F|         Nanuque|   A|   B|   1|\n",
            "|         MG|     776.8|     657.2|     678.6|      F|  Belo Horizonte|   B|   E|   1|\n",
            "|         MG|     909.3|     617.6|     755.8|      M|  Belo Horizonte|   B|   E|   1|\n",
            "|         MG|     333.6|     483.7|     441.9|      F|         Itaobim|   A|   H|   1|\n",
            "|         MG|      null|      null|      null|      F|      Angelândia|   A|   A|   1|\n",
            "|         MG|     424.2|     614.6|     655.2|      F|            Unaí|   A|   E|   1|\n",
            "|         MG|      null|      null|      null|      M|  Belo Horizonte|   A|   C|   1|\n",
            "|         MG|      null|      null|      null|      M|   Boa Esperança|   A|   B|   1|\n",
            "|         MG|     467.8|     582.8|     666.0|      M|  Belo Horizonte|   A|   E|   1|\n",
            "|         MG|     804.3|     672.8|     758.2|      F|    Juiz de Fora|   B|   F|   1|\n",
            "|         MG|      null|      null|      null|      F|  Belo Horizonte|   A|   E|   1|\n",
            "|         MG|     572.4|     622.4|     632.2|      M| Dores do Indaiá|   B|   E|   1|\n",
            "|         MG|     673.6|     662.2|     614.0|      F|   Montes Claros|   A|   F|   1|\n",
            "|         MG|     721.4|     716.9|     716.8|      F|    Juiz de Fora|   B|   G|   1|\n",
            "|         MG|     419.8|     572.8|     454.0|      F|     Tupaciguara|   A|   B|   1|\n",
            "|         MG|      null|      null|      null|      M|         Uberaba|   B|   C|   1|\n",
            "|         MG|      null|      null|      null|      M|   Montes Claros|   B|   F|   1|\n",
            "+-----------+----------+----------+----------+-------+----------------+----+----+----+\n",
            "only showing top 20 rows\n",
            "\n"
          ]
        }
      ]
    },
    {
      "cell_type": "code",
      "source": [
        ""
      ],
      "metadata": {
        "id": "zfSV-SxiJG27"
      },
      "execution_count": null,
      "outputs": []
    }
  ]
}